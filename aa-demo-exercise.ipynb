{
 "cells": [
  {
   "cell_type": "markdown",
   "id": "20757241",
   "metadata": {},
   "source": [
    "## Setup\n",
    "Let's install needed components. That will download a few packages needed for this exercise. "
   ]
  },
  {
   "cell_type": "code",
   "execution_count": null,
   "id": "77ca9476-c4ec-4b66-878d-f481a13ec8da",
   "metadata": {},
   "outputs": [],
   "source": [
    "pip install --default-timeout=1000 atscale prophet"
   ]
  },
  {
   "cell_type": "code",
   "execution_count": null,
   "id": "5014dee2-f682-4a24-bb4f-eff5ef1fba38",
   "metadata": {},
   "outputs": [],
   "source": [
    "from atscale.client import Client\n",
    "from atscale.data_model import DataModel\n",
    "from atscale.project import Project\n",
    "from prophet import Prophet\n",
    "import pandas as pd"
   ]
  },
  {
   "cell_type": "markdown",
   "id": "cf9c239a",
   "metadata": {},
   "source": [
    "## Connection\n",
    "\n",
    "Specify connection details of your Adaptive Analytics instance. \n",
    "Once you're asked for the organization respond in the dialog box with \"1\".\n",
    "And then please enter your password from the AtScale instance."
   ]
  },
  {
   "cell_type": "code",
   "execution_count": null,
   "id": "7b3a5f41-3c5a-4778-bc7c-6a8591424e3a",
   "metadata": {},
   "outputs": [],
   "source": [
    "client = Client(server='http://adaptivedemo', username='sample')\n",
    "client.connect()"
   ]
  },
  {
   "cell_type": "markdown",
   "id": "9db84a11",
   "metadata": {},
   "source": [
    "Select your project from the list of projects on the server. The answer should be the integer ID of the project.\n",
    "And then data model is selected automatically if it's the only one."
   ]
  },
  {
   "cell_type": "code",
   "execution_count": null,
   "id": "d76d2c6d-dd6c-4ebf-83b7-58a58ec6c77d",
   "metadata": {},
   "outputs": [],
   "source": [
    "project = client.select_project()   \n",
    "data_model = project.select_data_model()"
   ]
  },
  {
   "cell_type": "markdown",
   "id": "1fbc393a",
   "metadata": {},
   "source": [
    "## Explore your dataset\n",
    "There are a number of methods prepared by AtScale in this library. They allow to explore data catalog that you have, query data, and even ingest some data back.\n",
    "Please refer to this page for complete [API Reference](https://documentation.ai-link.atscale.com/user-guide/api/data_model/index.html)."
   ]
  },
  {
   "cell_type": "code",
   "execution_count": null,
   "id": "959cbf9f",
   "metadata": {},
   "outputs": [],
   "source": [
    "data_model.get_features()"
   ]
  },
  {
   "cell_type": "code",
   "execution_count": null,
   "id": "d107e068-1fe7-4233-8ef8-26a07f9816e7",
   "metadata": {},
   "outputs": [],
   "source": [
    "data_model.get_all_categorical_feature_names()"
   ]
  },
  {
   "cell_type": "code",
   "execution_count": null,
   "id": "3a6ba29f-1f24-4f19-8f95-f4388f91fe75",
   "metadata": {
    "scrolled": true
   },
   "outputs": [],
   "source": [
    "data_model.get_all_numeric_feature_names()"
   ]
  },
  {
   "cell_type": "code",
   "execution_count": null,
   "id": "f2a671b1-a7ea-4fc2-8f92-503aba238cc4",
   "metadata": {},
   "outputs": [],
   "source": [
    "df = data_model.get_data(feature_list = ['Country','Region','m_AmountOfSale_sum'])\n",
    "df = df.sort_values(by='m_AmountOfSale_sum')\n",
    "df.head()"
   ]
  },
  {
   "cell_type": "markdown",
   "id": "06da6476",
   "metadata": {},
   "source": [
    "Let's get some dataset and show it on the graph"
   ]
  },
  {
   "cell_type": "code",
   "execution_count": null,
   "id": "239fbb0b",
   "metadata": {},
   "outputs": [],
   "source": [
    "import matplotlib.pyplot as plt\n",
    "\n",
    "# We're taking sales for each date\n",
    "dataframe = data_model.get_data(feature_list = ['Date','m_AmountOfSale_sum'])\n",
    "\n",
    "# Create a line chart\n",
    "plt.plot(dataframe['Date'], dataframe['m_AmountOfSale_sum'])\n",
    "\n",
    "# Add labels and a title\n",
    "plt.xlabel('Days')\n",
    "plt.ylabel('Sales')\n",
    "plt.title('Daily Sales Data')\n",
    "\n",
    "# Display the chart\n",
    "plt.show()"
   ]
  },
  {
   "cell_type": "markdown",
   "id": "017436a3",
   "metadata": {},
   "source": [
    "## Prediction\n",
    "Let's do some simple prediction base on our semantic model"
   ]
  },
  {
   "cell_type": "code",
   "execution_count": null,
   "id": "d88ffeb6",
   "metadata": {},
   "outputs": [],
   "source": [
    "# Load the historical data to train the model\n",
    "data_train = data_model.get_data(\n",
    "    feature_list = ['Date','m_AmountOfSale_sum'],\n",
    "    filter_less = {'Date':'2021-01-01'}\n",
    "    )\n",
    "data_test = data_model.get_data(\n",
    "    feature_list = ['Date','m_AmountOfSale_sum'],\n",
    "    filter_greater = {'Date':'2021-01-01'}\n",
    "    )\n",
    "\n",
    "# For the tool we've chosen to do the prediction 'Prophet', we'll need to specify 2 columns: 'ds' and 'y'\n",
    "data_train['ds'] = pd.to_datetime(data_train['Date'])\n",
    "data_train.rename(columns={'m_AmountOfSale_sum': 'y'}, inplace=True)\n",
    "data_test['ds'] = pd.to_datetime(data_test['Date'])\n",
    "data_test.rename(columns={'m_AmountOfSale_sum': 'y'}, inplace=True)\n",
    "\n",
    "# Initialize and fit the Prophet model\n",
    "model = Prophet()\n",
    "model.fit(data_train)\n",
    "\n",
    "# Create a future dataframe for forecasting\n",
    "future = pd.DataFrame()\n",
    "future['ds'] = pd.date_range(start='2021-01-01', end='2021-12-31', freq='D')\n",
    "\n",
    "# Make predictions\n",
    "forecast = model.predict(future)\n",
    "fig = model.plot(forecast)\n",
    "fig.show()"
   ]
  },
  {
   "cell_type": "markdown",
   "id": "f16e0ac8",
   "metadata": {},
   "source": [
    "## Writeback\n",
    "\n",
    "Then we can put back our prediction to the data warehouse and add an aggregate to our semantic model to reflect it for other consumers.\n",
    "The prediction would be available through any other BI tool for BI analysts and business users."
   ]
  },
  {
   "cell_type": "markdown",
   "id": "ba2b876d",
   "metadata": {},
   "source": [
    "#### Example\n",
    "This is given as example.\n",
    "Next block of code will not be executed in our demo unfortunately as we have a multitenant demo environment.\n",
    "But feel free to experiment with you instance of AtScale."
   ]
  },
  {
   "cell_type": "code",
   "execution_count": null,
   "id": "d787e905",
   "metadata": {},
   "outputs": [],
   "source": [
    "\n",
    "from atscale.db.connections import Iris\n",
    "db = Iris(\n",
    "    username,\n",
    "    host,\n",
    "    namespace,\n",
    "    driver,\n",
    "    schema, \n",
    "    port=1972,\n",
    "    password=None, \n",
    "    warehouse_id=None\n",
    "    )\n",
    "\n",
    "data_model.writeback(dbconn=db,\n",
    "                    table_name= 'SalesPrediction',\n",
    "                    DataFrame = forecast)\n",
    "\n",
    "data_model.create_aggregate_feature(dataset_name='SalesPrediction',\n",
    "                                    column_name='SalesForecasted',\n",
    "                                    name='sum_sales_forecasted',\n",
    "                                    aggregation_type='SUM')\n",
    "\n",
    "\n"
   ]
  },
  {
   "cell_type": "markdown",
   "id": "d852217f",
   "metadata": {},
   "source": [
    "# Fin"
   ]
  }
 ],
 "metadata": {
  "kernelspec": {
   "display_name": "Python 3 (ipykernel)",
   "language": "python",
   "name": "python3"
  },
  "language_info": {
   "codemirror_mode": {
    "name": "ipython",
    "version": 3
   },
   "file_extension": ".py",
   "mimetype": "text/x-python",
   "name": "python",
   "nbconvert_exporter": "python",
   "pygments_lexer": "ipython3",
   "version": "3.11.6"
  }
 },
 "nbformat": 4,
 "nbformat_minor": 5
}
