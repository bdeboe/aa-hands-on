{
 "cells": [
  {
   "cell_type": "code",
   "execution_count": 39,
   "id": "77ca9476-c4ec-4b66-878d-f481a13ec8da",
   "metadata": {},
   "outputs": [
    {
     "name": "stdout",
     "output_type": "stream",
     "text": [
      "Requirement already satisfied: atscale in /opt/conda/lib/python3.11/site-packages (2.5.1)\n",
      "Requirement already satisfied: pandas in /opt/conda/lib/python3.11/site-packages (from atscale) (2.1.1)\n",
      "Requirement already satisfied: requests>=2.0.0 in /opt/conda/lib/python3.11/site-packages (from atscale) (2.31.0)\n",
      "Requirement already satisfied: aenum in /opt/conda/lib/python3.11/site-packages (from atscale) (3.1.15)\n",
      "Requirement already satisfied: cryptocode>=0.1 in /opt/conda/lib/python3.11/site-packages (from atscale) (0.1)\n",
      "Requirement already satisfied: pycryptodomex in /opt/conda/lib/python3.11/site-packages (from cryptocode>=0.1->atscale) (3.19.0)\n",
      "Requirement already satisfied: charset-normalizer<4,>=2 in /opt/conda/lib/python3.11/site-packages (from requests>=2.0.0->atscale) (3.3.0)\n",
      "Requirement already satisfied: idna<4,>=2.5 in /opt/conda/lib/python3.11/site-packages (from requests>=2.0.0->atscale) (3.4)\n",
      "Requirement already satisfied: urllib3<3,>=1.21.1 in /opt/conda/lib/python3.11/site-packages (from requests>=2.0.0->atscale) (2.0.6)\n",
      "Requirement already satisfied: certifi>=2017.4.17 in /opt/conda/lib/python3.11/site-packages (from requests>=2.0.0->atscale) (2023.7.22)\n",
      "Requirement already satisfied: numpy>=1.23.2 in /opt/conda/lib/python3.11/site-packages (from pandas->atscale) (1.26.1)\n",
      "Requirement already satisfied: python-dateutil>=2.8.2 in /opt/conda/lib/python3.11/site-packages (from pandas->atscale) (2.8.2)\n",
      "Requirement already satisfied: pytz>=2020.1 in /opt/conda/lib/python3.11/site-packages (from pandas->atscale) (2023.3.post1)\n",
      "Requirement already satisfied: tzdata>=2022.1 in /opt/conda/lib/python3.11/site-packages (from pandas->atscale) (2023.3)\n",
      "Requirement already satisfied: six>=1.5 in /opt/conda/lib/python3.11/site-packages (from python-dateutil>=2.8.2->pandas->atscale) (1.16.0)\n",
      "Note: you may need to restart the kernel to use updated packages.\n"
     ]
    }
   ],
   "source": [
    "pip --default-timeout=1000 install atscale"
   ]
  }
 ],
 "metadata": {
  "kernelspec": {
   "display_name": "Python 3 (ipykernel)",
   "language": "python",
   "name": "python3"
  },
  "language_info": {
   "codemirror_mode": {
    "name": "ipython",
    "version": 3
   },
   "file_extension": ".py",
   "mimetype": "text/x-python",
   "name": "python",
   "nbconvert_exporter": "python",
   "pygments_lexer": "ipython3",
   "version": "3.11.6"
  }
 },
 "nbformat": 4,
 "nbformat_minor": 5
}
